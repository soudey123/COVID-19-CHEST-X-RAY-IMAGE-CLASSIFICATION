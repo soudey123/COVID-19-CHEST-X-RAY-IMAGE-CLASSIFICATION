{
 "cells": [
  {
   "cell_type": "markdown",
   "metadata": {
    "id": "epGd8bfZQO1l"
   },
   "source": [
    "### 1. Read and explore the data"
   ]
  },
  {
   "cell_type": "markdown",
   "metadata": {},
   "source": [
    "#### 1.1 Import Python module"
   ]
  },
  {
   "cell_type": "code",
   "execution_count": 1,
   "metadata": {
    "id": "vLgNmD86woYH"
   },
   "outputs": [
    {
     "name": "stdout",
     "output_type": "stream",
     "text": [
      "You are using cuda\n",
      "          code train  val test  total\n",
      "COVID19      0   460   58   58    576\n",
      "NORMAL       1  1266  158  159   1583\n",
      "PNEUMONIA    2  3418  427  428   4273\n",
      "TOTAL           5144  643  645   6432\n"
     ]
    }
   ],
   "source": [
    "import gc\n",
    "import time\n",
    "import os\n",
    "import cv2\n",
    "import shutil\n",
    "import random\n",
    "import seaborn as sns\n",
    "import numpy as np\n",
    "import pandas as pd\n",
    "import matplotlib.pyplot as plt\n",
    "import torch\n",
    "import torch.optim as optim\n",
    "import torch.nn as nn\n",
    "import torch.nn.functional as F\n",
    "import torchvision\n",
    "import torchvision.datasets as datasets\n",
    "import torchvision.transforms as transforms\n",
    "from torchvision import models\n",
    "from torch import optim\n",
    "from sklearn.metrics import *\n",
    "from sklearn.model_selection import KFold\n",
    "\n",
    "seed = 24\n",
    "random.seed(seed)\n",
    "np.random.seed(seed)\n",
    "torch.manual_seed(seed)\n",
    "\n",
    "num_workers = 4\n",
    "batch_size = 10\n",
    "metrics = ['Accuracy', 'Precision', 'Recall', 'F1-score']\n",
    "categories = ['COVID19', 'NORMAL', 'PNEUMONIA']\n",
    "num_classes = len(categories)\n",
    "splits = ['train', 'val', 'test']\n",
    "DATA_PATH = r\"C:\\Gunther\\Datasets\\Covid19DLH_80_10_10\\Data\"\n",
    "model_path = r\"C:\\Gunther\\OneDrive - University of Illinois - Urbana\\Python\\DLH\\Project\"\n",
    "device = torch.device(\"cuda\" if torch.cuda.is_available() else \"cpu\")\n",
    "print(f'You are using {device}')\n",
    "\n",
    "def show_dataset(data_path=DATA_PATH):\n",
    "    df = pd.DataFrame(columns = ['code'] + splits, index = categories)\n",
    "    for row in categories:\n",
    "        for col in splits:\n",
    "            df.loc[row,col] = int(len(os.listdir(os.path.join(data_path, col+'/'+row))))\n",
    "    df['total'] = df.sum(axis=1).astype(int)\n",
    "    df.loc['TOTAL'] = df.sum(axis=0).astype(int)\n",
    "    df['code'] = ['0', '1', '2','']\n",
    "    print(df)\n",
    "    return df\n",
    "\n",
    "df_dataset = show_dataset()\n",
    "\n",
    "def load_data(data_path=DATA_PATH, num_workers=num_workers):\n",
    "    transform = transforms.Compose([transforms.Resize(224),\n",
    "                                    transforms.CenterCrop(224),\n",
    "                                    transforms.ToTensor(),\n",
    "                                   ])\n",
    "    train_data = datasets.ImageFolder(root=data_path + '/train', transform=transform)\n",
    "    train_loader = torch.utils.data.DataLoader(train_data, batch_size=batch_size, shuffle=True, num_workers=num_workers)\n",
    "    val_data = datasets.ImageFolder(root=data_path + '/val', transform=transform)\n",
    "    val_loader = torch.utils.data.DataLoader(val_data, batch_size=batch_size, shuffle=False, num_workers=num_workers)\n",
    "    test_data = datasets.ImageFolder(root=data_path + '/test', transform=transform)\n",
    "    test_loader = torch.utils.data.DataLoader(test_data, batch_size=batch_size, shuffle=False, num_workers=num_workers)\n",
    "    return train_data, train_loader, val_data, val_loader, test_data, test_loader\n",
    "\n",
    "train_data, train_loader, val_data, val_loader, test_data, test_loader = load_data()\n",
    "dataset = torch.utils.data.ConcatDataset([train_data, val_data, test_data])\n",
    "\n",
    "def calc_metrics(predictions, actuals, row):\n",
    "    df = pd.DataFrame(columns =metrics)\n",
    "    Y_pred = np.concatenate(predictions, axis=0)\n",
    "    Y_test = np.concatenate(actuals, axis=0)\n",
    "    df.loc[row, 'Accuracy'] = accuracy_score(Y_test, Y_pred)\n",
    "    df.loc[row, 'Precision'] = precision_score(Y_test, Y_pred, average=\"macro\")\n",
    "    df.loc[row, 'Recall'] = recall_score(Y_test, Y_pred, average=\"macro\")\n",
    "    df.loc[row, 'F1-score'] = f1_score(Y_test, Y_pred, average=\"macro\")\n",
    "    return df\n",
    "\n",
    "def create_confusion_matrix(preds, y_test):\n",
    "    ylist, predlist = [], []\n",
    "    for pred in preds:\n",
    "        for item in pred:\n",
    "            predlist.append(int(item))\n",
    "    for y in y_test:\n",
    "        for item in y:\n",
    "            ylist.append(int(item))\n",
    "    data_dict = {'y_Actual':    ylist, 'y_Predicted': predlist}\n",
    "    df = pd.DataFrame(data_dict, columns=['y_Actual','y_Predicted'])\n",
    "    cm = pd.crosstab(df['y_Actual'], df['y_Predicted'], rownames=['ACTUAL'], colnames=['PREDICTED'])\n",
    "    return cm\n",
    "\n",
    "def train_val_model(model):\n",
    "    t_start = time.time()\n",
    "    df = pd.DataFrame(columns = ['model_name', 'epoch', 'train', 'val', 'test acc'])\n",
    "    print(f\"Training model {model_name} with {df_dataset.loc['TOTAL', 'train']} samples and {n_epochs} epochs, and validating with {df_dataset.loc['TOTAL', 'val']} samples\\n\")\n",
    "    train_size, val_size = len(train_loader), len(val_loader)\n",
    "    for epoch in range(1, n_epochs+1):\n",
    "        # Beginning of training step\n",
    "        t0 = time.time()\n",
    "        model.train()\n",
    "        train_loss, val_loss = 0.0, 0.0\n",
    "        for i, (data, target) in enumerate(train_loader):\n",
    "            target = target.to(device)\n",
    "            data = data.to(device)\n",
    "            optimizer.zero_grad()\n",
    "            outputs = model(data)\n",
    "            loss = criterion(outputs, target)\n",
    "            loss.backward()\n",
    "            optimizer.step()\n",
    "            train_loss += loss.detach().cpu().numpy()\n",
    "        # Beginning of evaluation step\n",
    "        model.eval()\n",
    "        for j, (data, target) in enumerate(val_loader):\n",
    "            target = target.to(device)\n",
    "            data = data.to(device)\n",
    "            outputs = model(data)\n",
    "            loss = criterion(outputs, target)\n",
    "            val_loss += loss.detach().cpu().numpy()\n",
    "        predictions, actuals = calc_pred_actuals(model, test_loader)\n",
    "        df_test = calc_metrics(predictions, actuals, 'Test accuracy').astype(float)\n",
    "        print(f\"Epoch {epoch}:\\t train loss={train_loss/train_size:.5f} \\t val loss={val_loss/val_size:.5f} \\t test acc={df_test.iloc[0,0]:.5f} \\t time={(time.time() - t0):.2f}s\")\n",
    "        df.loc[len(df)] = [model_name, epoch, train_loss/train_size, val_loss/val_size, df_test.iloc[0,0]]\n",
    "        if use_scheduler: scheduler.step(val_loss/val_size)   # Optional to use scheduler for dynamic learning rate\n",
    "    print(f\"Total time training and evaluating: {(time.time()-t_start):.2f}s\")\n",
    "    return model, df\n",
    "\n",
    "def calc_pred_actuals(model, loader):\n",
    "    predictions, actuals = [], []\n",
    "    with torch.no_grad():\n",
    "        for data, target in loader:\n",
    "            data = data.to(device)\n",
    "            target = target.to(device)\n",
    "            Y_pred_orig = model(data)\n",
    "            _, Y_pred_tag = torch.max(Y_pred_orig, dim = 1)\n",
    "            Y_pred_tag = Y_pred_tag.detach().cpu().numpy()\n",
    "            Y_pred_tag = Y_pred_tag.reshape(len(Y_pred_tag), 1).astype('int8')\n",
    "            Y_test = target.detach().cpu().numpy()\n",
    "            Y_test = Y_test.reshape(len(Y_test), 1).astype('int8')\n",
    "            predictions.append(Y_pred_tag)\n",
    "            actuals.append(Y_test)\n",
    "    return predictions, actuals\n",
    "\n",
    "def test_model(model):\n",
    "    model.eval()\n",
    "    print(f\"Testing the model {model_name} with {df_dataset.loc['TOTAL', 'test']} samples \\n\")   \n",
    "    predictions, actuals = calc_pred_actuals(model, test_loader)\n",
    "    conf_matrix = create_confusion_matrix(predictions, actuals)\n",
    "    df_test = calc_metrics(predictions, actuals, 'Test Results').astype(float)\n",
    "    print(df_test)\n",
    "    return df_test, conf_matrix\n",
    "\n",
    "def plot_train_val_losses(df):\n",
    "    df2 = pd.melt(df, id_vars=['epoch'], value_vars=['train', 'val'], var_name='process', value_name='loss')\n",
    "    sns.lineplot(x = \"epoch\", y = \"loss\", data = df2, hue = \"process\",\n",
    "                style = \"process\", palette = \"hot\", dashes = False, \n",
    "                markers = [\"o\", \"<\"],  legend=\"brief\").set_title(\"Train and Validation Losses by Epoch\")\n",
    "    plt.show()"
   ]
  },
  {
   "cell_type": "code",
   "execution_count": 2,
   "metadata": {},
   "outputs": [],
   "source": [
    "w = [128, 128, 256, 256]\n",
    "\n",
    "class Net(nn.Module):\n",
    "    def __init__(self):\n",
    "        super(Net, self).__init__()\n",
    "        self.conv1 = nn.Conv2d(3, w[0], 3, padding=1)\n",
    "        self.bn1 = nn.BatchNorm2d(w[0])\n",
    "        self.pool1 = nn.MaxPool2d(kernel_size=4, stride=4)\n",
    "        self.conv2 = nn.Conv2d(w[0], w[1], 3, padding=1)\n",
    "        self.bn2 = nn.BatchNorm2d(w[1])\n",
    "        self.conv3 = nn.Conv2d(w[1], w[2], 3, padding=1)\n",
    "        self.bn3 = nn.BatchNorm2d(w[2])\n",
    "        self.pool2 = nn.MaxPool2d(kernel_size=2, stride=2)\n",
    "        self.linear1 = nn.Linear(14 * 14 * w[2], w[3])\n",
    "        self.linear2 = nn.Linear(w[3], 3)\n",
    "        self.relu = nn.ReLU()\n",
    "        self.dropout = nn.Dropout()\n",
    "    def forward(self, x):\n",
    "        x = self.pool1(self.relu(self.bn1(self.conv1(x))))\n",
    "        x = self.pool2(self.relu(self.bn2(self.conv2(x))))\n",
    "        x = self.pool2(self.relu(self.bn3(self.conv3(x))))\n",
    "        x = x.reshape(x.size(0), -1)\n",
    "        x = self.relu(self.linear1(x))\n",
    "        x = self.dropout(x)\n",
    "        x = self.linear2(x)\n",
    "        return x"
   ]
  },
  {
   "cell_type": "code",
   "execution_count": 3,
   "metadata": {},
   "outputs": [
    {
     "name": "stdout",
     "output_type": "stream",
     "text": [
      "Training model DLH_team with 5144 samples and 100 epochs, and validating with 643 samples\n",
      "\n",
      "Epoch 1:\t train loss=0.34874 \t val loss=0.16678 \t test acc=0.94264 \t time=95.46s\n",
      "Epoch 2:\t train loss=0.20170 \t val loss=0.14297 \t test acc=0.95659 \t time=94.76s\n",
      "Epoch 3:\t train loss=0.16935 \t val loss=0.15792 \t test acc=0.94729 \t time=95.35s\n",
      "Epoch 4:\t train loss=0.15661 \t val loss=0.14228 \t test acc=0.94729 \t time=95.19s\n",
      "Epoch 5:\t train loss=0.14096 \t val loss=0.12323 \t test acc=0.95349 \t time=98.11s\n",
      "Epoch 6:\t train loss=0.12372 \t val loss=0.12225 \t test acc=0.95349 \t time=96.30s\n",
      "Epoch 7:\t train loss=0.11439 \t val loss=0.12023 \t test acc=0.95349 \t time=95.85s\n",
      "Epoch 8:\t train loss=0.11156 \t val loss=0.19400 \t test acc=0.93643 \t time=95.41s\n",
      "Epoch 9:\t train loss=0.10401 \t val loss=0.13085 \t test acc=0.95969 \t time=95.15s\n",
      "Epoch 10:\t train loss=0.09431 \t val loss=0.13129 \t test acc=0.94884 \t time=96.30s\n",
      "Epoch 11:\t train loss=0.09116 \t val loss=0.11182 \t test acc=0.95814 \t time=96.03s\n",
      "Epoch 12:\t train loss=0.08518 \t val loss=0.11569 \t test acc=0.95814 \t time=95.88s\n",
      "Epoch 13:\t train loss=0.07514 \t val loss=0.12566 \t test acc=0.95504 \t time=94.79s\n",
      "Epoch 14:\t train loss=0.06775 \t val loss=0.13309 \t test acc=0.95349 \t time=95.16s\n",
      "Epoch 15:\t train loss=0.06772 \t val loss=0.11499 \t test acc=0.95969 \t time=96.37s\n",
      "Epoch 16:\t train loss=0.05874 \t val loss=0.11126 \t test acc=0.96124 \t time=96.08s\n",
      "Epoch 17:\t train loss=0.05587 \t val loss=0.12773 \t test acc=0.95039 \t time=96.06s\n",
      "Epoch 18:\t train loss=0.04920 \t val loss=0.14253 \t test acc=0.94729 \t time=95.06s\n",
      "Epoch 19:\t train loss=0.04794 \t val loss=0.11850 \t test acc=0.96124 \t time=96.04s\n",
      "Epoch 20:\t train loss=0.04589 \t val loss=0.12436 \t test acc=0.95659 \t time=96.53s\n",
      "Epoch 21:\t train loss=0.03901 \t val loss=0.11595 \t test acc=0.96124 \t time=95.75s\n",
      "Epoch 22:\t train loss=0.04033 \t val loss=0.12255 \t test acc=0.96124 \t time=96.33s\n",
      "Epoch 23:\t train loss=0.03259 \t val loss=0.11836 \t test acc=0.96434 \t time=96.06s\n",
      "Epoch 24:\t train loss=0.03064 \t val loss=0.12767 \t test acc=0.96279 \t time=98.59s\n",
      "Epoch 25:\t train loss=0.02723 \t val loss=0.26241 \t test acc=0.92248 \t time=96.74s\n",
      "Epoch 26:\t train loss=0.02373 \t val loss=0.12535 \t test acc=0.96279 \t time=95.69s\n",
      "Epoch 27:\t train loss=0.02195 \t val loss=0.13619 \t test acc=0.95659 \t time=95.81s\n",
      "Epoch 28:\t train loss=0.02119 \t val loss=0.15352 \t test acc=0.95349 \t time=95.92s\n",
      "Epoch 29:\t train loss=0.01942 \t val loss=0.13622 \t test acc=0.95814 \t time=96.29s\n",
      "Epoch 30:\t train loss=0.01545 \t val loss=0.14855 \t test acc=0.95969 \t time=95.85s\n",
      "Epoch 31:\t train loss=0.01583 \t val loss=0.13295 \t test acc=0.95814 \t time=95.37s\n",
      "Epoch 32:\t train loss=0.01331 \t val loss=0.14390 \t test acc=0.96434 \t time=96.10s\n",
      "Epoch 33:\t train loss=0.01093 \t val loss=0.14147 \t test acc=0.96124 \t time=96.18s\n",
      "Epoch 34:\t train loss=0.01140 \t val loss=0.14571 \t test acc=0.96589 \t time=96.83s\n",
      "Epoch 35:\t train loss=0.01003 \t val loss=0.13946 \t test acc=0.95814 \t time=95.55s\n",
      "Epoch 36:\t train loss=0.01001 \t val loss=0.13594 \t test acc=0.95969 \t time=95.34s\n",
      "Epoch 37:\t train loss=0.00795 \t val loss=0.15328 \t test acc=0.96124 \t time=94.85s\n",
      "Epoch 38:\t train loss=0.00767 \t val loss=0.15814 \t test acc=0.96279 \t time=95.85s\n",
      "Epoch 39:\t train loss=0.00713 \t val loss=0.16198 \t test acc=0.96124 \t time=94.99s\n",
      "Epoch 40:\t train loss=0.00768 \t val loss=0.15584 \t test acc=0.96124 \t time=95.26s\n",
      "Epoch 41:\t train loss=0.00776 \t val loss=0.15404 \t test acc=0.95814 \t time=95.89s\n",
      "Epoch 42:\t train loss=0.00593 \t val loss=0.15897 \t test acc=0.95969 \t time=95.66s\n",
      "Epoch 43:\t train loss=0.00579 \t val loss=0.14861 \t test acc=0.96279 \t time=98.93s\n",
      "Epoch 44:\t train loss=0.00550 \t val loss=0.16493 \t test acc=0.95659 \t time=95.24s\n",
      "Epoch 45:\t train loss=0.00417 \t val loss=0.14944 \t test acc=0.96124 \t time=95.28s\n",
      "Epoch 46:\t train loss=0.00353 \t val loss=0.16505 \t test acc=0.96279 \t time=95.37s\n",
      "Epoch 47:\t train loss=0.00448 \t val loss=0.15867 \t test acc=0.96124 \t time=94.94s\n",
      "Epoch 48:\t train loss=0.00388 \t val loss=0.16235 \t test acc=0.96124 \t time=94.89s\n",
      "Epoch 49:\t train loss=0.00413 \t val loss=0.16791 \t test acc=0.95969 \t time=94.90s\n",
      "Epoch 50:\t train loss=0.00561 \t val loss=0.15881 \t test acc=0.96589 \t time=94.97s\n",
      "Epoch 51:\t train loss=0.00381 \t val loss=0.17582 \t test acc=0.96434 \t time=95.56s\n",
      "Epoch 52:\t train loss=0.00363 \t val loss=0.17454 \t test acc=0.96124 \t time=97.84s\n",
      "Epoch 53:\t train loss=0.00405 \t val loss=0.16786 \t test acc=0.95814 \t time=96.28s\n",
      "Epoch 54:\t train loss=0.00318 \t val loss=0.16752 \t test acc=0.96124 \t time=95.23s\n",
      "Epoch 55:\t train loss=0.00262 \t val loss=0.17745 \t test acc=0.96124 \t time=94.77s\n",
      "Epoch 56:\t train loss=0.00377 \t val loss=0.17788 \t test acc=0.96124 \t time=95.07s\n",
      "Epoch 57:\t train loss=0.00353 \t val loss=0.17000 \t test acc=0.95969 \t time=95.68s\n",
      "Epoch 58:\t train loss=0.00262 \t val loss=0.17018 \t test acc=0.95659 \t time=95.67s\n",
      "Epoch 59:\t train loss=0.00225 \t val loss=0.17185 \t test acc=0.95814 \t time=94.79s\n",
      "Epoch 60:\t train loss=0.00205 \t val loss=0.16973 \t test acc=0.95814 \t time=95.01s\n",
      "Epoch 61:\t train loss=0.00265 \t val loss=0.17471 \t test acc=0.96434 \t time=94.82s\n",
      "Epoch 62:\t train loss=0.00226 \t val loss=0.17797 \t test acc=0.96279 \t time=96.17s\n",
      "Epoch 63:\t train loss=0.00263 \t val loss=0.16905 \t test acc=0.96124 \t time=96.71s\n",
      "Epoch 64:\t train loss=0.00254 \t val loss=0.17296 \t test acc=0.95969 \t time=95.71s\n",
      "Epoch 65:\t train loss=0.00226 \t val loss=0.16962 \t test acc=0.96434 \t time=94.93s\n",
      "Epoch 66:\t train loss=0.00171 \t val loss=0.17859 \t test acc=0.95969 \t time=96.76s\n",
      "Epoch 67:\t train loss=0.00248 \t val loss=0.17751 \t test acc=0.96124 \t time=95.94s\n",
      "Epoch 68:\t train loss=0.00206 \t val loss=0.17964 \t test acc=0.96279 \t time=94.82s\n",
      "Epoch 69:\t train loss=0.00158 \t val loss=0.17346 \t test acc=0.95969 \t time=94.71s\n",
      "Epoch 70:\t train loss=0.00153 \t val loss=0.18441 \t test acc=0.96434 \t time=95.09s\n",
      "Epoch 71:\t train loss=0.00308 \t val loss=0.17695 \t test acc=0.96279 \t time=96.84s\n",
      "Epoch 72:\t train loss=0.00200 \t val loss=0.18112 \t test acc=0.96124 \t time=95.66s\n",
      "Epoch 73:\t train loss=0.00170 \t val loss=0.18089 \t test acc=0.95814 \t time=96.42s\n",
      "Epoch 74:\t train loss=0.00130 \t val loss=0.18302 \t test acc=0.96124 \t time=96.20s\n",
      "Epoch 75:\t train loss=0.00132 \t val loss=0.17657 \t test acc=0.95814 \t time=94.92s\n",
      "Epoch 76:\t train loss=0.00131 \t val loss=0.18359 \t test acc=0.96279 \t time=95.18s\n",
      "Epoch 77:\t train loss=0.00187 \t val loss=0.18359 \t test acc=0.95969 \t time=95.01s\n",
      "Epoch 78:\t train loss=0.00180 \t val loss=0.18825 \t test acc=0.95659 \t time=95.43s\n",
      "Epoch 79:\t train loss=0.00178 \t val loss=0.19559 \t test acc=0.95969 \t time=95.41s\n",
      "Epoch 80:\t train loss=0.00169 \t val loss=0.18160 \t test acc=0.96279 \t time=95.16s\n",
      "Epoch 81:\t train loss=0.00144 \t val loss=0.17997 \t test acc=0.95814 \t time=96.20s\n",
      "Epoch 82:\t train loss=0.00127 \t val loss=0.17848 \t test acc=0.96124 \t time=95.49s\n",
      "Epoch 83:\t train loss=0.00137 \t val loss=0.17390 \t test acc=0.95814 \t time=94.83s\n",
      "Epoch 84:\t train loss=0.00134 \t val loss=0.17684 \t test acc=0.96434 \t time=95.47s\n",
      "Epoch 85:\t train loss=0.00185 \t val loss=0.17779 \t test acc=0.96124 \t time=95.59s\n",
      "Epoch 86:\t train loss=0.00151 \t val loss=0.17741 \t test acc=0.96434 \t time=95.49s\n",
      "Epoch 87:\t train loss=0.00138 \t val loss=0.18286 \t test acc=0.96279 \t time=94.97s\n",
      "Epoch 88:\t train loss=0.00095 \t val loss=0.18595 \t test acc=0.95814 \t time=94.80s\n",
      "Epoch 89:\t train loss=0.00123 \t val loss=0.19233 \t test acc=0.95814 \t time=95.04s\n",
      "Epoch 90:\t train loss=0.00115 \t val loss=0.19856 \t test acc=0.96124 \t time=96.85s\n",
      "Epoch 91:\t train loss=0.00144 \t val loss=0.19092 \t test acc=0.95969 \t time=96.16s\n",
      "Epoch 92:\t train loss=0.00087 \t val loss=0.18991 \t test acc=0.96279 \t time=95.14s\n",
      "Epoch 93:\t train loss=0.00083 \t val loss=0.19503 \t test acc=0.96279 \t time=94.64s\n",
      "Epoch 94:\t train loss=0.00129 \t val loss=0.17988 \t test acc=0.95814 \t time=94.78s\n",
      "Epoch 95:\t train loss=0.00136 \t val loss=0.18300 \t test acc=0.95814 \t time=94.64s\n",
      "Epoch 96:\t train loss=0.00116 \t val loss=0.18453 \t test acc=0.96434 \t time=95.26s\n",
      "Epoch 97:\t train loss=0.00114 \t val loss=0.17783 \t test acc=0.95969 \t time=95.06s\n",
      "Epoch 98:\t train loss=0.00086 \t val loss=0.17861 \t test acc=0.96124 \t time=95.31s\n",
      "Epoch 99:\t train loss=0.00071 \t val loss=0.19004 \t test acc=0.96279 \t time=94.78s\n",
      "Epoch 100:\t train loss=0.00110 \t val loss=0.17970 \t test acc=0.96434 \t time=95.43s\n",
      "Total time training and evaluating: 9565.10s\n"
     ]
    }
   ],
   "source": [
    "test = False\n",
    "\n",
    "seed = 24\n",
    "random.seed(seed)\n",
    "np.random.seed(seed)\n",
    "torch.manual_seed(seed)\n",
    "net = Net().to(device)\n",
    "model_name = 'DLH_team'\n",
    "n_epochs = 100\n",
    "learning_rate = 1e-3\n",
    "criterion = nn.CrossEntropyLoss()\n",
    "optimizer = torch.optim.SGD(net.parameters(), lr=learning_rate)\n",
    "\n",
    "\n",
    "use_scheduler = False   # Set True if using scheduler\n",
    "scheduler = optim.lr_scheduler.ReduceLROnPlateau(optimizer, factor=0.8, patience=2, threshold = 0.001, verbose=True, min_lr = 1e-5, threshold_mode = 'abs')\n",
    "our_model, df_epochs = train_val_model(net)"
   ]
  },
  {
   "cell_type": "code",
   "execution_count": 6,
   "metadata": {},
   "outputs": [],
   "source": [
    "torch.save(our_model.state_dict(), os.path.join(model_path, 'best5.pth'))"
   ]
  },
  {
   "cell_type": "markdown",
   "metadata": {},
   "source": [
    "#### 6.1 Plot epoch train and validation losses of the model"
   ]
  },
  {
   "cell_type": "code",
   "execution_count": 5,
   "metadata": {},
   "outputs": [
    {
     "data": {
      "image/png": "[encoded data removed]",
      "text/plain": [
       "<Figure size 432x288 with 1 Axes>"
      ]
     },
     "metadata": {
      "needs_background": "light"
     },
     "output_type": "display_data"
    }
   ],
   "source": [
    "plot_train_val_losses(df_epochs)"
   ]
  },
  {
   "cell_type": "markdown",
   "metadata": {},
   "source": [
    "#### 6.2 Test our own model"
   ]
  },
  {
   "cell_type": "code",
   "execution_count": 7,
   "metadata": {},
   "outputs": [
    {
     "name": "stdout",
     "output_type": "stream",
     "text": [
      "Testing the model DLH_team with 645 samples \n",
      "\n",
      "              Accuracy  Precision    Recall  F1-score\n",
      "Test Results  0.967442   0.965444  0.956881   0.96106\n"
     ]
    }
   ],
   "source": [
    "test_results, conf_matrix_test = test_model(our_model)"
   ]
  },
  {
   "cell_type": "markdown",
   "metadata": {},
   "source": [
    "#### 6.3 Show confusion matrix for test dataset"
   ]
  },
  {
   "cell_type": "code",
   "execution_count": 9,
   "metadata": {},
   "outputs": [
    {
     "data": {
      "image/png": "[encoded data removed]",
      "text/plain": [
       "<Figure size 432x288 with 2 Axes>"
      ]
     },
     "metadata": {
      "needs_background": "light"
     },
     "output_type": "display_data"
    }
   ],
   "source": [
    "_ = sns.heatmap(conf_matrix_test, annot=True, fmt='g', xticklabels=categories, yticklabels=categories)"
   ]
  }
 ],
 "metadata": {
  "accelerator": "GPU",
  "colab": {
   "collapsed_sections": [],
   "machine_shape": "hm",
   "name": "Covid19 chest x-ray classification.ipynb",
   "private_outputs": true,
   "provenance": []
  },
  "kernelspec": {
   "display_name": "Python 3",
   "language": "python",
   "name": "python3"
  },
  "language_info": {
   "codemirror_mode": {
    "name": "ipython",
    "version": 3
   },
   "file_extension": ".py",
   "mimetype": "text/x-python",
   "name": "python",
   "nbconvert_exporter": "python",
   "pygments_lexer": "ipython3",
   "version": "3.8.8"
  }
 },
 "nbformat": 4,
 "nbformat_minor": 4
}
